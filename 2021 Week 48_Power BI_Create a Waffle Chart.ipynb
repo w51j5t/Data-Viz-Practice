{
 "cells": [
  {
   "cell_type": "markdown",
   "id": "6b6edf58",
   "metadata": {},
   "source": [
    "# [2021 Week 48 | Power BI: Create a Waffle Chart](http://www.workout-wednesday.com/pbi-2021-w48/)\n",
    "\n",
    ">**Table of contents:**\n",
    ">\n",
    ">&ensp;&ensp;[Introduction](#Introduction) <br>\n",
    ">&ensp;&ensp;[Instructions](#Instructions) <br>\n",
    ">&ensp;&ensp;[Workings](#Workings) <br>\n",
    ">&ensp;&ensp;[Results](#Results)\n",
    "\n",
    "\n",
    "### Introduction\n",
    "This challenge is to visualize the Superstore Sales Data using waffle chart. \n",
    "    \n",
    "The data is available [here](https://data.world/rodyzakovich/workout-wednesday-2018-week-2).\n",
    "\n",
    "Figure 1 and Figure 2 show the solution provided in the [challenge's page](http://www.workout-wednesday.com/pbi-2021-w48/)."
   ]
  },
  {
   "cell_type": "markdown",
   "id": "3d387593",
   "metadata": {},
   "source": [
    "<center><img src='https://drive.google.com/uc?export=view&id=18Xd1zIkaRz_Mhc_Rb3FNYc6tYGxQW3iL'></center>\n",
    "<p style=\"text-align: center;\">Figure 1</p><br>\n",
    "\n",
    "<center><img src='https://drive.google.com/uc?export=view&id=16WoKjpRvUMW4RZBqhymmRpU2Nsq-8Mam'></center>\n",
    "<p style=\"text-align: center;\">Figure 2</p>"
   ]
  },
  {
   "cell_type": "markdown",
   "id": "0429443b",
   "metadata": {},
   "source": [
    "### Instructions\n",
    "- Calculate the % of Grand Total Sales that each sector contributes.\n",
    "- Create a waffle chart for each sector.\n",
    "- Add a chiclet slicer for the user to select the desired item(s).\n",
    "- Add a text box/smart narrative based on the selected item(s)."
   ]
  },
  {
   "cell_type": "markdown",
   "id": "011835e2",
   "metadata": {},
   "source": [
    "### Workings"
   ]
  },
  {
   "cell_type": "code",
   "execution_count": 1,
   "id": "4140fd7b",
   "metadata": {},
   "outputs": [],
   "source": [
    "import pandas as pd\n",
    "import warnings\n",
    "warnings.filterwarnings('ignore')"
   ]
  },
  {
   "cell_type": "code",
   "execution_count": 2,
   "id": "48c559a5",
   "metadata": {},
   "outputs": [
    {
     "name": "stdout",
     "output_type": "stream",
     "text": [
      "First 5 rows the dataset: \n",
      "      Segment Sub-Category     Sales\n",
      "0   Consumer    Bookcases  261.9600\n",
      "1   Consumer       Chairs  731.9400\n",
      "2  Corporate       Labels   14.6200\n",
      "3   Consumer       Tables  957.5775\n",
      "4   Consumer      Storage   22.3680 \n",
      "\n",
      "Unique entries in the Segment column: \n",
      " ['Consumer', 'Corporate', 'Home Office']\n"
     ]
    }
   ],
   "source": [
    "df = pd.read_excel('https://query.data.world/s/ppv2bq6nvnfdsrlrrcgwfcxnrwj67g', \n",
    "                   usecols=['Segment', 'Sub-Category', 'Sales'])\n",
    "\n",
    "segments = df['Segment'].unique().tolist()\n",
    "\n",
    "print('First 5 rows the dataset: \\n', df.head(), '\\n')\n",
    "print('Unique entries in the Segment column: \\n', segments)"
   ]
  },
  {
   "cell_type": "markdown",
   "id": "4cb0ba23",
   "metadata": {},
   "source": [
    "We only have 3 segments in the dataset, namely Consumer, Corporate and Home Office.\n",
    "\n",
    "The next part defines a function to compute the percent contribution and the total sales of each segment."
   ]
  },
  {
   "cell_type": "code",
   "execution_count": 3,
   "id": "14e935d8",
   "metadata": {},
   "outputs": [],
   "source": [
    "def consider(lst):\n",
    "    total, sales = 0, 0\n",
    "    output = {}\n",
    "    \n",
    "    if lst == []:\n",
    "        total += df['Sales'].sum()\n",
    "        for segment in segments:\n",
    "            sales += df[df['Segment']==segment]['Sales'].sum()\n",
    "            output[segment] = [round(sales / total * 100), round(sales)]\n",
    "            sales = 0\n",
    "    \n",
    "    else:\n",
    "        for item in lst:\n",
    "            total += df[(df['Sub-Category']==item)]['Sales'].sum()\n",
    "        for segment in segments:\n",
    "            for item in lst:\n",
    "                sales += df[(df['Sub-Category']==item) & (df['Segment']==segment)]['Sales'].sum()\n",
    "                output[segment] = [round(sales / total * 100), round(sales)]\n",
    "            sales = 0\n",
    "    \n",
    "    return output"
   ]
  },
  {
   "cell_type": "markdown",
   "id": "92d2fdfc",
   "metadata": {},
   "source": [
    "The output of the function defined above is a dictionary, with the three segments as the keys and each takes a list as their value. <br>\n",
    "For each list, the first element is the percent contribution and followed by the total sales of each segment. <br>\n",
    "The cell below shows the function's output, taking an empty list as its input."
   ]
  },
  {
   "cell_type": "code",
   "execution_count": 4,
   "id": "2d220790",
   "metadata": {},
   "outputs": [
    {
     "data": {
      "text/plain": [
       "{'Consumer': [51, 1161401],\n",
       " 'Corporate': [31, 706146],\n",
       " 'Home Office': [19, 429653]}"
      ]
     },
     "execution_count": 4,
     "metadata": {},
     "output_type": "execute_result"
    }
   ],
   "source": [
    "sales = consider([])\n",
    "sales"
   ]
  },
  {
   "cell_type": "markdown",
   "id": "0195bf0e",
   "metadata": {},
   "source": [
    "We then proceed to define the function to make the waffle chart."
   ]
  },
  {
   "cell_type": "code",
   "execution_count": 5,
   "id": "1bd3030f",
   "metadata": {},
   "outputs": [],
   "source": [
    "import plotly.graph_objects as go\n",
    "import numpy as np"
   ]
  },
  {
   "cell_type": "code",
   "execution_count": 6,
   "id": "d454c263",
   "metadata": {},
   "outputs": [],
   "source": [
    "def fill_array(n):\n",
    "    # take an int as input\n",
    "    # return an array filled with \n",
    "    # (100-n) 0s and n 1s\n",
    "    \n",
    "    arr = np.zeros((10, 10))\n",
    "    \n",
    "    remainder = n % 10\n",
    "    row = int(n/10)\n",
    "    \n",
    "    if remainder != 0:\n",
    "        arr[:row,:] = 1\n",
    "        arr[row, :remainder] = 1\n",
    "    else:\n",
    "        arr[:row:,:] = 1\n",
    "    \n",
    "    return arr\n",
    "\n",
    "# colorscale\n",
    "colour = [[0, '#AFEEEE'], # lighter (Pale Turquoise)\n",
    "          [1, '#2F4F4F']] # darker (Dark Slate Gray)\n",
    "\n",
    "def waffle(segment, lst):\n",
    "    # segment is either 'Consumer', 'Corporate' or 'Home Office'\n",
    "    # lst is the list of items selected, empty list means none is selected\n",
    "    # return a waffle chart (made from heatmap)\n",
    "    \n",
    "    percentages = consider(lst)\n",
    "    percentage = percentages[segment][0]\n",
    "    \n",
    "    fig = go.Figure(go.Heatmap(z=fill_array(percentage),\n",
    "                               xgap=3, ygap=3,\n",
    "                               colorscale=colour, showscale=False, \n",
    "                               hoverinfo='skip'))\n",
    "\n",
    "    fig.update_layout(width=460, height=460, \n",
    "                      plot_bgcolor='white',\n",
    "                      xaxis = {'title': '<b>{}%</b>'.format(percentage), \n",
    "                               'title_font_size': 30,\n",
    "                               'color': '#2F4F4F',\n",
    "                               'showticklabels': False}, \n",
    "                      yaxis = {'visible': False}, \n",
    "                      title = segment,\n",
    "                      title_x = 0.5,\n",
    "                      title_y = 0.01,\n",
    "                      title_font_color = '#2F4F4F',\n",
    "                      title_font_size = 30)\n",
    "\n",
    "\n",
    "    return fig"
   ]
  },
  {
   "cell_type": "markdown",
   "id": "b835ede7",
   "metadata": {},
   "source": [
    "Lastly, we create the dashboard."
   ]
  },
  {
   "cell_type": "code",
   "execution_count": 7,
   "id": "dcbfe581",
   "metadata": {},
   "outputs": [],
   "source": [
    "import dash\n",
    "import dash_core_components as dcc\n",
    "import dash_html_components as html\n",
    "import dash_bootstrap_components as dbc\n",
    "from dash.dependencies import Input, Output, State"
   ]
  },
  {
   "cell_type": "code",
   "execution_count": 8,
   "id": "534b0d8c",
   "metadata": {},
   "outputs": [],
   "source": [
    "# button style (colour)\n",
    "active_button = {'height':'31px', \n",
    "                 'color':'#2F4F4F',\n",
    "                 'background-color':'#ADD8E6',\n",
    "                 'border-color':'white',\n",
    "                 'margin-bottom':'3px'}\n",
    "\n",
    "normal_button = {'height':'31px', \n",
    "                 'color':'#2F4F4F',\n",
    "                 'background-color':'#EEF7FA',\n",
    "                 'border-color':'white',\n",
    "                 'margin-bottom':'3px'}\n",
    "\n",
    "# default text\n",
    "non_selected = html.H4([\n",
    "    'Of all superstore sales made, ',\n",
    "    html.B('{}%'.format(sales['Consumer'][0])),\n",
    "    ' were from the consumer sector with a total of ${:,} in sales. '.format(sales['Consumer'][1]),\n",
    "    html.B('{}%'.format(sales['Corporate'][0])),\n",
    "    ' came from the corporate sector, representing ${:,}. The remaining '.format(sales['Corporate'][1]),\n",
    "    html.B('{}%'.format(sales['Home Office'][0])),\n",
    "    ' of sales came from the home office sector, representing ${:,}.'.format(sales['Home Office'][1])])"
   ]
  },
  {
   "cell_type": "code",
   "execution_count": 9,
   "id": "0bcd270e",
   "metadata": {},
   "outputs": [
    {
     "name": "stdout",
     "output_type": "stream",
     "text": [
      "Dash is running on http://127.0.0.1:8050/\n",
      "\n",
      " * Serving Flask app '__main__' (lazy loading)\n",
      " * Environment: production\n",
      "\u001b[31m   WARNING: This is a development server. Do not use it in a production deployment.\u001b[0m\n",
      "\u001b[2m   Use a production WSGI server instead.\u001b[0m\n",
      " * Debug mode: on\n"
     ]
    }
   ],
   "source": [
    "app = dash.Dash(__name__, external_stylesheets=[dbc.themes.COSMO])\n",
    "\n",
    "app.layout = dbc.Container(\n",
    "    [\n",
    "        # header\n",
    "        dbc.Row(dbc.Col(html.H4(html.B('Superstore Sales Data by Sector'),\n",
    "                                        style={'margin-top':'6px', 'margin-left':'15px'}),\n",
    "                        style={'background-color':'#EEF7FA', 'height':'6vh'})\n",
    "               ),\n",
    "    \n",
    "        # contents\n",
    "        dbc.Row(\n",
    "            [\n",
    "                # left panel\n",
    "                dbc.Col(\n",
    "                    [\n",
    "                        html.H5('Select an Item', style={'color':'#2F4F4F', \n",
    "                                                         'margin-bottom':'0px'}),\n",
    "                        \n",
    "                        html.Hr(style={'margin-top':'0px', 'margin-bottom':'0px'}),\n",
    "                        \n",
    "                        dbc.Card(\n",
    "                            dbc.ButtonGroup(\n",
    "                                [\n",
    "                                    dbc.Button(item, id=item, n_clicks=0,\n",
    "                                               style=normal_button)\n",
    "                                    for item in sorted(df['Sub-Category'].unique())\n",
    "                                ],\n",
    "                                vertical=True\n",
    "                            ),style={'border-color':'white'})\n",
    "                    ], \n",
    "                    width=2, \n",
    "                    style={'margin-top':'10px', \n",
    "                           'margin-bottom':'10px', \n",
    "                           'margin-left':'15px'}),\n",
    "                \n",
    "                # graphs & text\n",
    "                dbc.Col(\n",
    "                    [\n",
    "                        # waffle x 3\n",
    "                        dbc.Row(\n",
    "                            [\n",
    "                                dcc.Graph(figure=waffle(segment,[]), id=segment,\n",
    "                                          style={'margin-top':'-65px', \n",
    "                                                 'margin-left':'-30px',\n",
    "                                                 'margin-right':'-50px',\n",
    "                                                 'z-index':'-1'})\n",
    "                                for segment in ['Consumer', 'Corporate', 'Home Office']\n",
    "                            ],\n",
    "                            style={'height':'500px'}),\n",
    "                        \n",
    "                        # text\n",
    "                        dbc.Row(non_selected, id='text',\n",
    "                                style={'margin-top':'-35px','margin-left':'5px', 'margin-right': '100px'})\n",
    "                    ])\n",
    "            ]\n",
    "        ),\n",
    "        \n",
    "        # footer\n",
    "        dbc.Row(dbc.Col(html.H4(html.B('WoW2021 | Power BI | Week 48'),\n",
    "                                        style={'margin-top':'6px', 'margin-left':'15px'}),\n",
    "                        style={'background-color':'#EEF7FA', 'height':'6vh'})),\n",
    "    ],\n",
    "    \n",
    "    fluid=True\n",
    ")\n",
    "\n",
    "selection = []\n",
    "\n",
    "for item in sorted(df['Sub-Category'].unique()):\n",
    "    @app.callback(\n",
    "        Output(item, 'active'),\n",
    "        Output(item, 'style'),\n",
    "        Input(item, 'n_clicks'),\n",
    "        State(item, 'id')\n",
    "    )\n",
    "    def activeButton(click, item):\n",
    "        if click != 0:\n",
    "            if click % 2 == 1:\n",
    "                selection.append(item)\n",
    "                return True, active_button\n",
    "            else:\n",
    "                selection.remove(item)\n",
    "                return False, normal_button\n",
    "        return dash.no_update\n",
    "    \n",
    "@app.callback(\n",
    "    [Output(segment, 'figure') for segment in ['Consumer', 'Corporate', 'Home Office']],\n",
    "    Output('text', 'children'),\n",
    "    [Input(item, 'active') for item in sorted(df['Sub-Category'].unique())],\n",
    ")\n",
    "def updateGraph(*items):\n",
    "    for item in items:\n",
    "        if item:\n",
    "            sales = consider(selection)\n",
    "            narrative = html.H4([\n",
    "                'Of {} Superstore sales made, '.format(', '.join(selection)),\n",
    "                html.B('{}%'.format(sales['Consumer'][0])),\n",
    "                ' were from the consumer sector with a total of ${:,} in sales. '.format(sales['Consumer'][1]),\n",
    "                html.B('{}%'.format(sales['Corporate'][0])),\n",
    "                ' came from the corporate sector, representing ${:,}. The remaining '.format(sales['Corporate'][1]),\n",
    "                html.B('{}%'.format(sales['Home Office'][0])),\n",
    "                ' of sales came from the home office sector, representing ${:,}.'.format(sales['Home Office'][1])])\n",
    "            return waffle('Consumer', selection), waffle('Corporate', selection), waffle('Home Office', selection), narrative\n",
    "    \n",
    "    return waffle('Consumer', selection), waffle('Corporate', selection), waffle('Home Office', selection), non_selected\n",
    "\n",
    "\n",
    "\n",
    "if __name__ == '__main__':\n",
    "    app.run_server(debug=True, use_reloader=False)\n",
    "#     app.run_server(debug=False)"
   ]
  },
  {
   "cell_type": "markdown",
   "id": "5f2cdf84",
   "metadata": {},
   "source": [
    "### Results"
   ]
  },
  {
   "cell_type": "markdown",
   "id": "77c2a265",
   "metadata": {},
   "source": [
    "Figure 3 and Figure 4 show the final solution.<br>\n",
    "<br><center><img src='https://drive.google.com/uc?export=view&id=1bdrFZCfgqEbWEKLm6WNFc2nO74HNh3Id'></center>\n",
    "<p style=\"text-align: center;\">Figure 3</p><br>\n",
    "<center><img src='https://drive.google.com/uc?export=view&id=1K4Y0JKtaiZH9PKUEZYVDRWkuosMAZoeJ'></center>\n",
    "<p style=\"text-align: center;\">Figure 4</p>"
   ]
  }
 ],
 "metadata": {
  "kernelspec": {
   "display_name": "Python 3",
   "language": "python",
   "name": "python3"
  },
  "language_info": {
   "codemirror_mode": {
    "name": "ipython",
    "version": 3
   },
   "file_extension": ".py",
   "mimetype": "text/x-python",
   "name": "python",
   "nbconvert_exporter": "python",
   "pygments_lexer": "ipython3",
   "version": "3.9.1"
  }
 },
 "nbformat": 4,
 "nbformat_minor": 5
}
